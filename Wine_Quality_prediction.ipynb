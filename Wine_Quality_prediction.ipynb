{
 "cells": [
  {
   "cell_type": "code",
   "execution_count": 76,
   "id": "928d6f1f",
   "metadata": {},
   "outputs": [],
   "source": [
    "import numpy as np\n",
    "import pandas as pd\n",
    "import seaborn as sns\n",
    "import matplotlib.pyplot as plt\n",
    "from sklearn.model_selection import train_test_split\n",
    "from sklearn.preprocessing import StandardScaler\n",
    "from sklearn.metrics import accuracy_score\n",
    "from sklearn.ensemble import RandomForestClassifier\n",
    "from sklearn.compose import ColumnTransformer\n",
    "from sklearn.pipeline import make_pipeline\n",
    "from sklearn.linear_model import LogisticRegression\n",
    "from sklearn.tree import DecisionTreeClassifier\n",
    "from xgboost import XGBClassifier"
   ]
  },
  {
   "cell_type": "code",
   "execution_count": 2,
   "id": "84a4ce84",
   "metadata": {},
   "outputs": [],
   "source": [
    "df=pd.read_csv(\"D:\\\\Datasets\\\\winequality-red.csv\")"
   ]
  },
  {
   "cell_type": "code",
   "execution_count": 6,
   "id": "2ec384f3",
   "metadata": {},
   "outputs": [
    {
     "data": {
      "text/html": [
       "<div>\n",
       "<style scoped>\n",
       "    .dataframe tbody tr th:only-of-type {\n",
       "        vertical-align: middle;\n",
       "    }\n",
       "\n",
       "    .dataframe tbody tr th {\n",
       "        vertical-align: top;\n",
       "    }\n",
       "\n",
       "    .dataframe thead th {\n",
       "        text-align: right;\n",
       "    }\n",
       "</style>\n",
       "<table border=\"1\" class=\"dataframe\">\n",
       "  <thead>\n",
       "    <tr style=\"text-align: right;\">\n",
       "      <th></th>\n",
       "      <th>fixed acidity</th>\n",
       "      <th>volatile acidity</th>\n",
       "      <th>citric acid</th>\n",
       "      <th>residual sugar</th>\n",
       "      <th>chlorides</th>\n",
       "      <th>free sulfur dioxide</th>\n",
       "      <th>total sulfur dioxide</th>\n",
       "      <th>density</th>\n",
       "      <th>pH</th>\n",
       "      <th>sulphates</th>\n",
       "      <th>alcohol</th>\n",
       "      <th>quality</th>\n",
       "    </tr>\n",
       "  </thead>\n",
       "  <tbody>\n",
       "    <tr>\n",
       "      <th>0</th>\n",
       "      <td>7.4</td>\n",
       "      <td>0.70</td>\n",
       "      <td>0.00</td>\n",
       "      <td>1.9</td>\n",
       "      <td>0.076</td>\n",
       "      <td>11.0</td>\n",
       "      <td>34.0</td>\n",
       "      <td>0.9978</td>\n",
       "      <td>3.51</td>\n",
       "      <td>0.56</td>\n",
       "      <td>9.4</td>\n",
       "      <td>5</td>\n",
       "    </tr>\n",
       "    <tr>\n",
       "      <th>1</th>\n",
       "      <td>7.8</td>\n",
       "      <td>0.88</td>\n",
       "      <td>0.00</td>\n",
       "      <td>2.6</td>\n",
       "      <td>0.098</td>\n",
       "      <td>25.0</td>\n",
       "      <td>67.0</td>\n",
       "      <td>0.9968</td>\n",
       "      <td>3.20</td>\n",
       "      <td>0.68</td>\n",
       "      <td>9.8</td>\n",
       "      <td>5</td>\n",
       "    </tr>\n",
       "    <tr>\n",
       "      <th>2</th>\n",
       "      <td>7.8</td>\n",
       "      <td>0.76</td>\n",
       "      <td>0.04</td>\n",
       "      <td>2.3</td>\n",
       "      <td>0.092</td>\n",
       "      <td>15.0</td>\n",
       "      <td>54.0</td>\n",
       "      <td>0.9970</td>\n",
       "      <td>3.26</td>\n",
       "      <td>0.65</td>\n",
       "      <td>9.8</td>\n",
       "      <td>5</td>\n",
       "    </tr>\n",
       "    <tr>\n",
       "      <th>3</th>\n",
       "      <td>11.2</td>\n",
       "      <td>0.28</td>\n",
       "      <td>0.56</td>\n",
       "      <td>1.9</td>\n",
       "      <td>0.075</td>\n",
       "      <td>17.0</td>\n",
       "      <td>60.0</td>\n",
       "      <td>0.9980</td>\n",
       "      <td>3.16</td>\n",
       "      <td>0.58</td>\n",
       "      <td>9.8</td>\n",
       "      <td>6</td>\n",
       "    </tr>\n",
       "    <tr>\n",
       "      <th>4</th>\n",
       "      <td>7.4</td>\n",
       "      <td>0.70</td>\n",
       "      <td>0.00</td>\n",
       "      <td>1.9</td>\n",
       "      <td>0.076</td>\n",
       "      <td>11.0</td>\n",
       "      <td>34.0</td>\n",
       "      <td>0.9978</td>\n",
       "      <td>3.51</td>\n",
       "      <td>0.56</td>\n",
       "      <td>9.4</td>\n",
       "      <td>5</td>\n",
       "    </tr>\n",
       "  </tbody>\n",
       "</table>\n",
       "</div>"
      ],
      "text/plain": [
       "   fixed acidity  volatile acidity  citric acid  residual sugar  chlorides  \\\n",
       "0            7.4              0.70         0.00             1.9      0.076   \n",
       "1            7.8              0.88         0.00             2.6      0.098   \n",
       "2            7.8              0.76         0.04             2.3      0.092   \n",
       "3           11.2              0.28         0.56             1.9      0.075   \n",
       "4            7.4              0.70         0.00             1.9      0.076   \n",
       "\n",
       "   free sulfur dioxide  total sulfur dioxide  density    pH  sulphates  \\\n",
       "0                 11.0                  34.0   0.9978  3.51       0.56   \n",
       "1                 25.0                  67.0   0.9968  3.20       0.68   \n",
       "2                 15.0                  54.0   0.9970  3.26       0.65   \n",
       "3                 17.0                  60.0   0.9980  3.16       0.58   \n",
       "4                 11.0                  34.0   0.9978  3.51       0.56   \n",
       "\n",
       "   alcohol  quality  \n",
       "0      9.4        5  \n",
       "1      9.8        5  \n",
       "2      9.8        5  \n",
       "3      9.8        6  \n",
       "4      9.4        5  "
      ]
     },
     "execution_count": 6,
     "metadata": {},
     "output_type": "execute_result"
    }
   ],
   "source": [
    "df.head()"
   ]
  },
  {
   "cell_type": "code",
   "execution_count": 7,
   "id": "1e2be466",
   "metadata": {},
   "outputs": [
    {
     "data": {
      "text/plain": [
       "(1599, 12)"
      ]
     },
     "execution_count": 7,
     "metadata": {},
     "output_type": "execute_result"
    }
   ],
   "source": [
    "df.shape"
   ]
  },
  {
   "cell_type": "code",
   "execution_count": 8,
   "id": "75cbdc35",
   "metadata": {},
   "outputs": [
    {
     "data": {
      "text/plain": [
       "5    681\n",
       "6    638\n",
       "7    199\n",
       "4     53\n",
       "8     18\n",
       "3     10\n",
       "Name: quality, dtype: int64"
      ]
     },
     "execution_count": 8,
     "metadata": {},
     "output_type": "execute_result"
    }
   ],
   "source": [
    "df['quality'].value_counts()"
   ]
  },
  {
   "cell_type": "code",
   "execution_count": 9,
   "id": "7cd1c3fd",
   "metadata": {},
   "outputs": [],
   "source": [
    "good=df[df['quality']>=7]\n",
    "bad=df[df['quality']<=6]\n",
    "sample=bad.sample(n=220)\n",
    "df=pd.concat([good,sample],axis=0)"
   ]
  },
  {
   "cell_type": "code",
   "execution_count": 12,
   "id": "f15db9c7",
   "metadata": {},
   "outputs": [
    {
     "data": {
      "text/html": [
       "<div>\n",
       "<style scoped>\n",
       "    .dataframe tbody tr th:only-of-type {\n",
       "        vertical-align: middle;\n",
       "    }\n",
       "\n",
       "    .dataframe tbody tr th {\n",
       "        vertical-align: top;\n",
       "    }\n",
       "\n",
       "    .dataframe thead th {\n",
       "        text-align: right;\n",
       "    }\n",
       "</style>\n",
       "<table border=\"1\" class=\"dataframe\">\n",
       "  <thead>\n",
       "    <tr style=\"text-align: right;\">\n",
       "      <th></th>\n",
       "      <th>fixed acidity</th>\n",
       "      <th>volatile acidity</th>\n",
       "      <th>citric acid</th>\n",
       "      <th>residual sugar</th>\n",
       "      <th>chlorides</th>\n",
       "      <th>free sulfur dioxide</th>\n",
       "      <th>total sulfur dioxide</th>\n",
       "      <th>density</th>\n",
       "      <th>pH</th>\n",
       "      <th>sulphates</th>\n",
       "      <th>alcohol</th>\n",
       "      <th>quality</th>\n",
       "    </tr>\n",
       "  </thead>\n",
       "  <tbody>\n",
       "    <tr>\n",
       "      <th>657</th>\n",
       "      <td>12.0</td>\n",
       "      <td>0.500</td>\n",
       "      <td>0.59</td>\n",
       "      <td>1.4</td>\n",
       "      <td>0.073</td>\n",
       "      <td>23.0</td>\n",
       "      <td>42.0</td>\n",
       "      <td>0.99800</td>\n",
       "      <td>2.92</td>\n",
       "      <td>0.68</td>\n",
       "      <td>10.5</td>\n",
       "      <td>7</td>\n",
       "    </tr>\n",
       "    <tr>\n",
       "      <th>949</th>\n",
       "      <td>8.9</td>\n",
       "      <td>0.120</td>\n",
       "      <td>0.45</td>\n",
       "      <td>1.8</td>\n",
       "      <td>0.075</td>\n",
       "      <td>10.0</td>\n",
       "      <td>21.0</td>\n",
       "      <td>0.99552</td>\n",
       "      <td>3.41</td>\n",
       "      <td>0.76</td>\n",
       "      <td>11.9</td>\n",
       "      <td>7</td>\n",
       "    </tr>\n",
       "    <tr>\n",
       "      <th>206</th>\n",
       "      <td>12.8</td>\n",
       "      <td>0.300</td>\n",
       "      <td>0.74</td>\n",
       "      <td>2.6</td>\n",
       "      <td>0.095</td>\n",
       "      <td>9.0</td>\n",
       "      <td>28.0</td>\n",
       "      <td>0.99940</td>\n",
       "      <td>3.20</td>\n",
       "      <td>0.77</td>\n",
       "      <td>10.8</td>\n",
       "      <td>7</td>\n",
       "    </tr>\n",
       "    <tr>\n",
       "      <th>1347</th>\n",
       "      <td>7.2</td>\n",
       "      <td>0.655</td>\n",
       "      <td>0.03</td>\n",
       "      <td>1.8</td>\n",
       "      <td>0.078</td>\n",
       "      <td>7.0</td>\n",
       "      <td>12.0</td>\n",
       "      <td>0.99587</td>\n",
       "      <td>3.34</td>\n",
       "      <td>0.39</td>\n",
       "      <td>9.5</td>\n",
       "      <td>5</td>\n",
       "    </tr>\n",
       "    <tr>\n",
       "      <th>771</th>\n",
       "      <td>9.4</td>\n",
       "      <td>0.685</td>\n",
       "      <td>0.26</td>\n",
       "      <td>2.4</td>\n",
       "      <td>0.082</td>\n",
       "      <td>23.0</td>\n",
       "      <td>143.0</td>\n",
       "      <td>0.99780</td>\n",
       "      <td>3.28</td>\n",
       "      <td>0.55</td>\n",
       "      <td>9.4</td>\n",
       "      <td>5</td>\n",
       "    </tr>\n",
       "  </tbody>\n",
       "</table>\n",
       "</div>"
      ],
      "text/plain": [
       "      fixed acidity  volatile acidity  citric acid  residual sugar  chlorides  \\\n",
       "657            12.0             0.500         0.59             1.4      0.073   \n",
       "949             8.9             0.120         0.45             1.8      0.075   \n",
       "206            12.8             0.300         0.74             2.6      0.095   \n",
       "1347            7.2             0.655         0.03             1.8      0.078   \n",
       "771             9.4             0.685         0.26             2.4      0.082   \n",
       "\n",
       "      free sulfur dioxide  total sulfur dioxide  density    pH  sulphates  \\\n",
       "657                  23.0                  42.0  0.99800  2.92       0.68   \n",
       "949                  10.0                  21.0  0.99552  3.41       0.76   \n",
       "206                   9.0                  28.0  0.99940  3.20       0.77   \n",
       "1347                  7.0                  12.0  0.99587  3.34       0.39   \n",
       "771                  23.0                 143.0  0.99780  3.28       0.55   \n",
       "\n",
       "      alcohol  quality  \n",
       "657      10.5        7  \n",
       "949      11.9        7  \n",
       "206      10.8        7  \n",
       "1347      9.5        5  \n",
       "771       9.4        5  "
      ]
     },
     "execution_count": 12,
     "metadata": {},
     "output_type": "execute_result"
    }
   ],
   "source": [
    "df.sample(5)"
   ]
  },
  {
   "cell_type": "code",
   "execution_count": 104,
   "id": "301eee29",
   "metadata": {},
   "outputs": [],
   "source": [
    "scale = ColumnTransformer([('scale',StandardScaler(),slice(0,11))])"
   ]
  },
  {
   "cell_type": "code",
   "execution_count": 105,
   "id": "7c21fce2",
   "metadata": {},
   "outputs": [],
   "source": [
    "model = RandomForestClassifier(n_estimators=75)"
   ]
  },
  {
   "cell_type": "code",
   "execution_count": 106,
   "id": "3c67f7e0",
   "metadata": {},
   "outputs": [],
   "source": [
    "pipe = make_pipeline(scale,model)"
   ]
  },
  {
   "cell_type": "code",
   "execution_count": 17,
   "id": "03884402",
   "metadata": {},
   "outputs": [
    {
     "data": {
      "image/png": "[encoded data removed]",
      "text/plain": [
       "<Figure size 360x360 with 1 Axes>"
      ]
     },
     "metadata": {
      "needs_background": "light"
     },
     "output_type": "display_data"
    }
   ],
   "source": [
    "sns.catplot(data=df,x='quality',kind='count')\n",
    "plt.show()"
   ]
  },
  {
   "cell_type": "code",
   "execution_count": 18,
   "id": "e94f4a0f",
   "metadata": {},
   "outputs": [
    {
     "data": {
      "text/html": [
       "<div>\n",
       "<style scoped>\n",
       "    .dataframe tbody tr th:only-of-type {\n",
       "        vertical-align: middle;\n",
       "    }\n",
       "\n",
       "    .dataframe tbody tr th {\n",
       "        vertical-align: top;\n",
       "    }\n",
       "\n",
       "    .dataframe thead th {\n",
       "        text-align: right;\n",
       "    }\n",
       "</style>\n",
       "<table border=\"1\" class=\"dataframe\">\n",
       "  <thead>\n",
       "    <tr style=\"text-align: right;\">\n",
       "      <th></th>\n",
       "      <th>fixed acidity</th>\n",
       "      <th>volatile acidity</th>\n",
       "      <th>citric acid</th>\n",
       "      <th>residual sugar</th>\n",
       "      <th>chlorides</th>\n",
       "      <th>free sulfur dioxide</th>\n",
       "      <th>total sulfur dioxide</th>\n",
       "      <th>density</th>\n",
       "      <th>pH</th>\n",
       "      <th>sulphates</th>\n",
       "      <th>alcohol</th>\n",
       "      <th>quality</th>\n",
       "    </tr>\n",
       "  </thead>\n",
       "  <tbody>\n",
       "    <tr>\n",
       "      <th>fixed acidity</th>\n",
       "      <td>1.000000</td>\n",
       "      <td>-0.286924</td>\n",
       "      <td>0.723970</td>\n",
       "      <td>0.176298</td>\n",
       "      <td>0.075262</td>\n",
       "      <td>-0.153340</td>\n",
       "      <td>-0.161526</td>\n",
       "      <td>0.682032</td>\n",
       "      <td>-0.732465</td>\n",
       "      <td>0.199984</td>\n",
       "      <td>-0.137477</td>\n",
       "      <td>0.144721</td>\n",
       "    </tr>\n",
       "    <tr>\n",
       "      <th>volatile acidity</th>\n",
       "      <td>-0.286924</td>\n",
       "      <td>1.000000</td>\n",
       "      <td>-0.571501</td>\n",
       "      <td>0.004995</td>\n",
       "      <td>0.113651</td>\n",
       "      <td>0.097617</td>\n",
       "      <td>0.161858</td>\n",
       "      <td>0.076268</td>\n",
       "      <td>0.288151</td>\n",
       "      <td>-0.343900</td>\n",
       "      <td>-0.240559</td>\n",
       "      <td>-0.431719</td>\n",
       "    </tr>\n",
       "    <tr>\n",
       "      <th>citric acid</th>\n",
       "      <td>0.723970</td>\n",
       "      <td>-0.571501</td>\n",
       "      <td>1.000000</td>\n",
       "      <td>0.230541</td>\n",
       "      <td>0.119696</td>\n",
       "      <td>-0.118605</td>\n",
       "      <td>-0.036067</td>\n",
       "      <td>0.369852</td>\n",
       "      <td>-0.613902</td>\n",
       "      <td>0.330403</td>\n",
       "      <td>0.154177</td>\n",
       "      <td>0.290515</td>\n",
       "    </tr>\n",
       "    <tr>\n",
       "      <th>residual sugar</th>\n",
       "      <td>0.176298</td>\n",
       "      <td>0.004995</td>\n",
       "      <td>0.230541</td>\n",
       "      <td>1.000000</td>\n",
       "      <td>0.041658</td>\n",
       "      <td>0.066261</td>\n",
       "      <td>0.211420</td>\n",
       "      <td>0.311665</td>\n",
       "      <td>-0.160353</td>\n",
       "      <td>0.018434</td>\n",
       "      <td>0.121048</td>\n",
       "      <td>0.074355</td>\n",
       "    </tr>\n",
       "    <tr>\n",
       "      <th>chlorides</th>\n",
       "      <td>0.075262</td>\n",
       "      <td>0.113651</td>\n",
       "      <td>0.119696</td>\n",
       "      <td>0.041658</td>\n",
       "      <td>1.000000</td>\n",
       "      <td>-0.057466</td>\n",
       "      <td>-0.030938</td>\n",
       "      <td>0.237206</td>\n",
       "      <td>-0.198032</td>\n",
       "      <td>0.218302</td>\n",
       "      <td>-0.256008</td>\n",
       "      <td>-0.205096</td>\n",
       "    </tr>\n",
       "    <tr>\n",
       "      <th>free sulfur dioxide</th>\n",
       "      <td>-0.153340</td>\n",
       "      <td>0.097617</td>\n",
       "      <td>-0.118605</td>\n",
       "      <td>0.066261</td>\n",
       "      <td>-0.057466</td>\n",
       "      <td>1.000000</td>\n",
       "      <td>0.678536</td>\n",
       "      <td>-0.046605</td>\n",
       "      <td>0.093209</td>\n",
       "      <td>-0.007990</td>\n",
       "      <td>-0.095470</td>\n",
       "      <td>-0.162457</td>\n",
       "    </tr>\n",
       "    <tr>\n",
       "      <th>total sulfur dioxide</th>\n",
       "      <td>-0.161526</td>\n",
       "      <td>0.161858</td>\n",
       "      <td>-0.036067</td>\n",
       "      <td>0.211420</td>\n",
       "      <td>-0.030938</td>\n",
       "      <td>0.678536</td>\n",
       "      <td>1.000000</td>\n",
       "      <td>-0.002991</td>\n",
       "      <td>0.011576</td>\n",
       "      <td>-0.020068</td>\n",
       "      <td>-0.142053</td>\n",
       "      <td>-0.250699</td>\n",
       "    </tr>\n",
       "    <tr>\n",
       "      <th>density</th>\n",
       "      <td>0.682032</td>\n",
       "      <td>0.076268</td>\n",
       "      <td>0.369852</td>\n",
       "      <td>0.311665</td>\n",
       "      <td>0.237206</td>\n",
       "      <td>-0.046605</td>\n",
       "      <td>-0.002991</td>\n",
       "      <td>1.000000</td>\n",
       "      <td>-0.390463</td>\n",
       "      <td>0.116731</td>\n",
       "      <td>-0.560963</td>\n",
       "      <td>-0.251363</td>\n",
       "    </tr>\n",
       "    <tr>\n",
       "      <th>pH</th>\n",
       "      <td>-0.732465</td>\n",
       "      <td>0.288151</td>\n",
       "      <td>-0.613902</td>\n",
       "      <td>-0.160353</td>\n",
       "      <td>-0.198032</td>\n",
       "      <td>0.093209</td>\n",
       "      <td>0.011576</td>\n",
       "      <td>-0.390463</td>\n",
       "      <td>1.000000</td>\n",
       "      <td>-0.148544</td>\n",
       "      <td>0.216581</td>\n",
       "      <td>-0.097314</td>\n",
       "    </tr>\n",
       "    <tr>\n",
       "      <th>sulphates</th>\n",
       "      <td>0.199984</td>\n",
       "      <td>-0.343900</td>\n",
       "      <td>0.330403</td>\n",
       "      <td>0.018434</td>\n",
       "      <td>0.218302</td>\n",
       "      <td>-0.007990</td>\n",
       "      <td>-0.020068</td>\n",
       "      <td>0.116731</td>\n",
       "      <td>-0.148544</td>\n",
       "      <td>1.000000</td>\n",
       "      <td>0.163838</td>\n",
       "      <td>0.297839</td>\n",
       "    </tr>\n",
       "    <tr>\n",
       "      <th>alcohol</th>\n",
       "      <td>-0.137477</td>\n",
       "      <td>-0.240559</td>\n",
       "      <td>0.154177</td>\n",
       "      <td>0.121048</td>\n",
       "      <td>-0.256008</td>\n",
       "      <td>-0.095470</td>\n",
       "      <td>-0.142053</td>\n",
       "      <td>-0.560963</td>\n",
       "      <td>0.216581</td>\n",
       "      <td>0.163838</td>\n",
       "      <td>1.000000</td>\n",
       "      <td>0.569947</td>\n",
       "    </tr>\n",
       "    <tr>\n",
       "      <th>quality</th>\n",
       "      <td>0.144721</td>\n",
       "      <td>-0.431719</td>\n",
       "      <td>0.290515</td>\n",
       "      <td>0.074355</td>\n",
       "      <td>-0.205096</td>\n",
       "      <td>-0.162457</td>\n",
       "      <td>-0.250699</td>\n",
       "      <td>-0.251363</td>\n",
       "      <td>-0.097314</td>\n",
       "      <td>0.297839</td>\n",
       "      <td>0.569947</td>\n",
       "      <td>1.000000</td>\n",
       "    </tr>\n",
       "  </tbody>\n",
       "</table>\n",
       "</div>"
      ],
      "text/plain": [
       "                      fixed acidity  volatile acidity  citric acid  \\\n",
       "fixed acidity              1.000000         -0.286924     0.723970   \n",
       "volatile acidity          -0.286924          1.000000    -0.571501   \n",
       "citric acid                0.723970         -0.571501     1.000000   \n",
       "residual sugar             0.176298          0.004995     0.230541   \n",
       "chlorides                  0.075262          0.113651     0.119696   \n",
       "free sulfur dioxide       -0.153340          0.097617    -0.118605   \n",
       "total sulfur dioxide      -0.161526          0.161858    -0.036067   \n",
       "density                    0.682032          0.076268     0.369852   \n",
       "pH                        -0.732465          0.288151    -0.613902   \n",
       "sulphates                  0.199984         -0.343900     0.330403   \n",
       "alcohol                   -0.137477         -0.240559     0.154177   \n",
       "quality                    0.144721         -0.431719     0.290515   \n",
       "\n",
       "                      residual sugar  chlorides  free sulfur dioxide  \\\n",
       "fixed acidity               0.176298   0.075262            -0.153340   \n",
       "volatile acidity            0.004995   0.113651             0.097617   \n",
       "citric acid                 0.230541   0.119696            -0.118605   \n",
       "residual sugar              1.000000   0.041658             0.066261   \n",
       "chlorides                   0.041658   1.000000            -0.057466   \n",
       "free sulfur dioxide         0.066261  -0.057466             1.000000   \n",
       "total sulfur dioxide        0.211420  -0.030938             0.678536   \n",
       "density                     0.311665   0.237206            -0.046605   \n",
       "pH                         -0.160353  -0.198032             0.093209   \n",
       "sulphates                   0.018434   0.218302            -0.007990   \n",
       "alcohol                     0.121048  -0.256008            -0.095470   \n",
       "quality                     0.074355  -0.205096            -0.162457   \n",
       "\n",
       "                      total sulfur dioxide   density        pH  sulphates  \\\n",
       "fixed acidity                    -0.161526  0.682032 -0.732465   0.199984   \n",
       "volatile acidity                  0.161858  0.076268  0.288151  -0.343900   \n",
       "citric acid                      -0.036067  0.369852 -0.613902   0.330403   \n",
       "residual sugar                    0.211420  0.311665 -0.160353   0.018434   \n",
       "chlorides                        -0.030938  0.237206 -0.198032   0.218302   \n",
       "free sulfur dioxide               0.678536 -0.046605  0.093209  -0.007990   \n",
       "total sulfur dioxide              1.000000 -0.002991  0.011576  -0.020068   \n",
       "density                          -0.002991  1.000000 -0.390463   0.116731   \n",
       "pH                                0.011576 -0.390463  1.000000  -0.148544   \n",
       "sulphates                        -0.020068  0.116731 -0.148544   1.000000   \n",
       "alcohol                          -0.142053 -0.560963  0.216581   0.163838   \n",
       "quality                          -0.250699 -0.251363 -0.097314   0.297839   \n",
       "\n",
       "                       alcohol   quality  \n",
       "fixed acidity        -0.137477  0.144721  \n",
       "volatile acidity     -0.240559 -0.431719  \n",
       "citric acid           0.154177  0.290515  \n",
       "residual sugar        0.121048  0.074355  \n",
       "chlorides            -0.256008 -0.205096  \n",
       "free sulfur dioxide  -0.095470 -0.162457  \n",
       "total sulfur dioxide -0.142053 -0.250699  \n",
       "density              -0.560963 -0.251363  \n",
       "pH                    0.216581 -0.097314  \n",
       "sulphates             0.163838  0.297839  \n",
       "alcohol               1.000000  0.569947  \n",
       "quality               0.569947  1.000000  "
      ]
     },
     "execution_count": 18,
     "metadata": {},
     "output_type": "execute_result"
    }
   ],
   "source": [
    "df.corr()"
   ]
  },
  {
   "cell_type": "code",
   "execution_count": 19,
   "id": "47af2f14",
   "metadata": {},
   "outputs": [
    {
     "data": {
      "image/png": "[encoded data removed]",
      "text/plain": [
       "<Figure size 864x576 with 2 Axes>"
      ]
     },
     "metadata": {
      "needs_background": "light"
     },
     "output_type": "display_data"
    }
   ],
   "source": [
    "plt.figure(figsize=(12,8))\n",
    "sns.heatmap(df.corr(),square=True,annot=True,fmt='0.1f',cmap='Blues')\n",
    "plt.show()"
   ]
  },
  {
   "cell_type": "code",
   "execution_count": 20,
   "id": "f2f5d2b1",
   "metadata": {},
   "outputs": [],
   "source": [
    "x=df.drop(columns=\"quality\",axis=1)\n",
    "y=df.quality"
   ]
  },
  {
   "cell_type": "code",
   "execution_count": 21,
   "id": "a379814e",
   "metadata": {},
   "outputs": [
    {
     "data": {
      "text/html": [
       "<div>\n",
       "<style scoped>\n",
       "    .dataframe tbody tr th:only-of-type {\n",
       "        vertical-align: middle;\n",
       "    }\n",
       "\n",
       "    .dataframe tbody tr th {\n",
       "        vertical-align: top;\n",
       "    }\n",
       "\n",
       "    .dataframe thead th {\n",
       "        text-align: right;\n",
       "    }\n",
       "</style>\n",
       "<table border=\"1\" class=\"dataframe\">\n",
       "  <thead>\n",
       "    <tr style=\"text-align: right;\">\n",
       "      <th></th>\n",
       "      <th>fixed acidity</th>\n",
       "      <th>volatile acidity</th>\n",
       "      <th>citric acid</th>\n",
       "      <th>residual sugar</th>\n",
       "      <th>chlorides</th>\n",
       "      <th>free sulfur dioxide</th>\n",
       "      <th>total sulfur dioxide</th>\n",
       "      <th>density</th>\n",
       "      <th>pH</th>\n",
       "      <th>sulphates</th>\n",
       "      <th>alcohol</th>\n",
       "    </tr>\n",
       "  </thead>\n",
       "  <tbody>\n",
       "    <tr>\n",
       "      <th>7</th>\n",
       "      <td>7.3</td>\n",
       "      <td>0.65</td>\n",
       "      <td>0.00</td>\n",
       "      <td>1.2</td>\n",
       "      <td>0.065</td>\n",
       "      <td>15.0</td>\n",
       "      <td>21.0</td>\n",
       "      <td>0.9946</td>\n",
       "      <td>3.39</td>\n",
       "      <td>0.47</td>\n",
       "      <td>10.0</td>\n",
       "    </tr>\n",
       "    <tr>\n",
       "      <th>8</th>\n",
       "      <td>7.8</td>\n",
       "      <td>0.58</td>\n",
       "      <td>0.02</td>\n",
       "      <td>2.0</td>\n",
       "      <td>0.073</td>\n",
       "      <td>9.0</td>\n",
       "      <td>18.0</td>\n",
       "      <td>0.9968</td>\n",
       "      <td>3.36</td>\n",
       "      <td>0.57</td>\n",
       "      <td>9.5</td>\n",
       "    </tr>\n",
       "    <tr>\n",
       "      <th>16</th>\n",
       "      <td>8.5</td>\n",
       "      <td>0.28</td>\n",
       "      <td>0.56</td>\n",
       "      <td>1.8</td>\n",
       "      <td>0.092</td>\n",
       "      <td>35.0</td>\n",
       "      <td>103.0</td>\n",
       "      <td>0.9969</td>\n",
       "      <td>3.30</td>\n",
       "      <td>0.75</td>\n",
       "      <td>10.5</td>\n",
       "    </tr>\n",
       "    <tr>\n",
       "      <th>37</th>\n",
       "      <td>8.1</td>\n",
       "      <td>0.38</td>\n",
       "      <td>0.28</td>\n",
       "      <td>2.1</td>\n",
       "      <td>0.066</td>\n",
       "      <td>13.0</td>\n",
       "      <td>30.0</td>\n",
       "      <td>0.9968</td>\n",
       "      <td>3.23</td>\n",
       "      <td>0.73</td>\n",
       "      <td>9.7</td>\n",
       "    </tr>\n",
       "    <tr>\n",
       "      <th>62</th>\n",
       "      <td>7.5</td>\n",
       "      <td>0.52</td>\n",
       "      <td>0.16</td>\n",
       "      <td>1.9</td>\n",
       "      <td>0.085</td>\n",
       "      <td>12.0</td>\n",
       "      <td>35.0</td>\n",
       "      <td>0.9968</td>\n",
       "      <td>3.38</td>\n",
       "      <td>0.62</td>\n",
       "      <td>9.5</td>\n",
       "    </tr>\n",
       "  </tbody>\n",
       "</table>\n",
       "</div>"
      ],
      "text/plain": [
       "    fixed acidity  volatile acidity  citric acid  residual sugar  chlorides  \\\n",
       "7             7.3              0.65         0.00             1.2      0.065   \n",
       "8             7.8              0.58         0.02             2.0      0.073   \n",
       "16            8.5              0.28         0.56             1.8      0.092   \n",
       "37            8.1              0.38         0.28             2.1      0.066   \n",
       "62            7.5              0.52         0.16             1.9      0.085   \n",
       "\n",
       "    free sulfur dioxide  total sulfur dioxide  density    pH  sulphates  \\\n",
       "7                  15.0                  21.0   0.9946  3.39       0.47   \n",
       "8                   9.0                  18.0   0.9968  3.36       0.57   \n",
       "16                 35.0                 103.0   0.9969  3.30       0.75   \n",
       "37                 13.0                  30.0   0.9968  3.23       0.73   \n",
       "62                 12.0                  35.0   0.9968  3.38       0.62   \n",
       "\n",
       "    alcohol  \n",
       "7      10.0  \n",
       "8       9.5  \n",
       "16     10.5  \n",
       "37      9.7  \n",
       "62      9.5  "
      ]
     },
     "execution_count": 21,
     "metadata": {},
     "output_type": "execute_result"
    }
   ],
   "source": [
    "x.head()"
   ]
  },
  {
   "cell_type": "code",
   "execution_count": 22,
   "id": "a602f386",
   "metadata": {},
   "outputs": [
    {
     "data": {
      "text/plain": [
       "7     7\n",
       "8     7\n",
       "16    7\n",
       "37    7\n",
       "62    7\n",
       "Name: quality, dtype: int64"
      ]
     },
     "execution_count": 22,
     "metadata": {},
     "output_type": "execute_result"
    }
   ],
   "source": [
    "y.head()"
   ]
  },
  {
   "cell_type": "code",
   "execution_count": 23,
   "id": "3279a953",
   "metadata": {},
   "outputs": [],
   "source": [
    "y=df.quality.apply(lambda y_value:1 if y_value>=7 else 0)"
   ]
  },
  {
   "cell_type": "code",
   "execution_count": 24,
   "id": "dde1dfab",
   "metadata": {},
   "outputs": [
    {
     "data": {
      "text/plain": [
       "0    220\n",
       "1    217\n",
       "Name: quality, dtype: int64"
      ]
     },
     "execution_count": 24,
     "metadata": {},
     "output_type": "execute_result"
    }
   ],
   "source": [
    "y.value_counts()"
   ]
  },
  {
   "cell_type": "code",
   "execution_count": 25,
   "id": "5c038b84",
   "metadata": {},
   "outputs": [],
   "source": [
    "x_train,x_test,y_train,y_test=train_test_split(x,y,test_size=0.2,stratify=y,random_state=2)"
   ]
  },
  {
   "cell_type": "code",
   "execution_count": 107,
   "id": "ce19dbce",
   "metadata": {},
   "outputs": [
    {
     "data": {
      "text/html": [
       "<style>#sk-aeab9b3d-49bf-40d6-8f74-a60500fe0c84 {color: black;background-color: white;}#sk-aeab9b3d-49bf-40d6-8f74-a60500fe0c84 pre{padding: 0;}#sk-aeab9b3d-49bf-40d6-8f74-a60500fe0c84 div.sk-toggleable {background-color: white;}#sk-aeab9b3d-49bf-40d6-8f74-a60500fe0c84 label.sk-toggleable__label {cursor: pointer;display: block;width: 100%;margin-bottom: 0;padding: 0.2em 0.3em;box-sizing: border-box;text-align: center;}#sk-aeab9b3d-49bf-40d6-8f74-a60500fe0c84 div.sk-toggleable__content {max-height: 0;max-width: 0;overflow: hidden;text-align: left;background-color: #f0f8ff;}#sk-aeab9b3d-49bf-40d6-8f74-a60500fe0c84 div.sk-toggleable__content pre {margin: 0.2em;color: black;border-radius: 0.25em;background-color: #f0f8ff;}#sk-aeab9b3d-49bf-40d6-8f74-a60500fe0c84 input.sk-toggleable__control:checked~div.sk-toggleable__content {max-height: 200px;max-width: 100%;overflow: auto;}#sk-aeab9b3d-49bf-40d6-8f74-a60500fe0c84 div.sk-estimator input.sk-toggleable__control:checked~label.sk-toggleable__label {background-color: #d4ebff;}#sk-aeab9b3d-49bf-40d6-8f74-a60500fe0c84 div.sk-label input.sk-toggleable__control:checked~label.sk-toggleable__label {background-color: #d4ebff;}#sk-aeab9b3d-49bf-40d6-8f74-a60500fe0c84 input.sk-hidden--visually {border: 0;clip: rect(1px 1px 1px 1px);clip: rect(1px, 1px, 1px, 1px);height: 1px;margin: -1px;overflow: hidden;padding: 0;position: absolute;width: 1px;}#sk-aeab9b3d-49bf-40d6-8f74-a60500fe0c84 div.sk-estimator {font-family: monospace;background-color: #f0f8ff;margin: 0.25em 0.25em;border: 1px dotted black;border-radius: 0.25em;box-sizing: border-box;}#sk-aeab9b3d-49bf-40d6-8f74-a60500fe0c84 div.sk-estimator:hover {background-color: #d4ebff;}#sk-aeab9b3d-49bf-40d6-8f74-a60500fe0c84 div.sk-parallel-item::after {content: \"\";width: 100%;border-bottom: 1px solid gray;flex-grow: 1;}#sk-aeab9b3d-49bf-40d6-8f74-a60500fe0c84 div.sk-label:hover label.sk-toggleable__label {background-color: #d4ebff;}#sk-aeab9b3d-49bf-40d6-8f74-a60500fe0c84 div.sk-serial::before {content: \"\";position: absolute;border-left: 1px solid gray;box-sizing: border-box;top: 2em;bottom: 0;left: 50%;}#sk-aeab9b3d-49bf-40d6-8f74-a60500fe0c84 div.sk-serial {display: flex;flex-direction: column;align-items: center;background-color: white;}#sk-aeab9b3d-49bf-40d6-8f74-a60500fe0c84 div.sk-item {z-index: 1;}#sk-aeab9b3d-49bf-40d6-8f74-a60500fe0c84 div.sk-parallel {display: flex;align-items: stretch;justify-content: center;background-color: white;}#sk-aeab9b3d-49bf-40d6-8f74-a60500fe0c84 div.sk-parallel-item {display: flex;flex-direction: column;position: relative;background-color: white;}#sk-aeab9b3d-49bf-40d6-8f74-a60500fe0c84 div.sk-parallel-item:first-child::after {align-self: flex-end;width: 50%;}#sk-aeab9b3d-49bf-40d6-8f74-a60500fe0c84 div.sk-parallel-item:last-child::after {align-self: flex-start;width: 50%;}#sk-aeab9b3d-49bf-40d6-8f74-a60500fe0c84 div.sk-parallel-item:only-child::after {width: 0;}#sk-aeab9b3d-49bf-40d6-8f74-a60500fe0c84 div.sk-dashed-wrapped {border: 1px dashed gray;margin: 0.2em;box-sizing: border-box;padding-bottom: 0.1em;background-color: white;position: relative;}#sk-aeab9b3d-49bf-40d6-8f74-a60500fe0c84 div.sk-label label {font-family: monospace;font-weight: bold;background-color: white;display: inline-block;line-height: 1.2em;}#sk-aeab9b3d-49bf-40d6-8f74-a60500fe0c84 div.sk-label-container {position: relative;z-index: 2;text-align: center;}#sk-aeab9b3d-49bf-40d6-8f74-a60500fe0c84 div.sk-container {display: inline-block;position: relative;}</style><div id=\"sk-aeab9b3d-49bf-40d6-8f74-a60500fe0c84\" class\"sk-top-container\"><div class=\"sk-container\"><div class=\"sk-item sk-dashed-wrapped\"><div class=\"sk-label-container\"><div class=\"sk-label sk-toggleable\"><input class=\"sk-toggleable__control sk-hidden--visually\" id=\"5af19ce7-4f16-45b5-9728-0f8999b4ca70\" type=\"checkbox\" ><label class=\"sk-toggleable__label\" for=\"5af19ce7-4f16-45b5-9728-0f8999b4ca70\">Pipeline</label><div class=\"sk-toggleable__content\"><pre>Pipeline(steps=[('columntransformer',\n",
       "                 ColumnTransformer(transformers=[('scale', StandardScaler(),\n",
       "                                                  slice(0, 11, None))])),\n",
       "                ('randomforestclassifier',\n",
       "                 RandomForestClassifier(n_estimators=75))])</pre></div></div></div><div class=\"sk-serial\"><div class=\"sk-item sk-dashed-wrapped\"><div class=\"sk-label-container\"><div class=\"sk-label sk-toggleable\"><input class=\"sk-toggleable__control sk-hidden--visually\" id=\"08dbbe5e-c792-42a2-a9a8-161439dfd283\" type=\"checkbox\" ><label class=\"sk-toggleable__label\" for=\"08dbbe5e-c792-42a2-a9a8-161439dfd283\">columntransformer: ColumnTransformer</label><div class=\"sk-toggleable__content\"><pre>ColumnTransformer(transformers=[('scale', StandardScaler(),\n",
       "                                 slice(0, 11, None))])</pre></div></div></div><div class=\"sk-parallel\"><div class=\"sk-parallel-item\"><div class=\"sk-item\"><div class=\"sk-label-container\"><div class=\"sk-label sk-toggleable\"><input class=\"sk-toggleable__control sk-hidden--visually\" id=\"8f882373-c94b-48a5-9d70-b118c6606faf\" type=\"checkbox\" ><label class=\"sk-toggleable__label\" for=\"8f882373-c94b-48a5-9d70-b118c6606faf\">scale</label><div class=\"sk-toggleable__content\"><pre>slice(0, 11, None)</pre></div></div></div><div class=\"sk-serial\"><div class=\"sk-item\"><div class=\"sk-estimator sk-toggleable\"><input class=\"sk-toggleable__control sk-hidden--visually\" id=\"74a7914d-c24a-4d1f-a851-49a90f1d7e51\" type=\"checkbox\" ><label class=\"sk-toggleable__label\" for=\"74a7914d-c24a-4d1f-a851-49a90f1d7e51\">StandardScaler</label><div class=\"sk-toggleable__content\"><pre>StandardScaler()</pre></div></div></div></div></div></div></div></div><div class=\"sk-item\"><div class=\"sk-estimator sk-toggleable\"><input class=\"sk-toggleable__control sk-hidden--visually\" id=\"3c51bc5e-d5f6-448d-8aed-91cfc53d91b2\" type=\"checkbox\" ><label class=\"sk-toggleable__label\" for=\"3c51bc5e-d5f6-448d-8aed-91cfc53d91b2\">RandomForestClassifier</label><div class=\"sk-toggleable__content\"><pre>RandomForestClassifier(n_estimators=75)</pre></div></div></div></div></div></div></div>"
      ],
      "text/plain": [
       "Pipeline(steps=[('columntransformer',\n",
       "                 ColumnTransformer(transformers=[('scale', StandardScaler(),\n",
       "                                                  slice(0, 11, None))])),\n",
       "                ('randomforestclassifier',\n",
       "                 RandomForestClassifier(n_estimators=75))])"
      ]
     },
     "execution_count": 107,
     "metadata": {},
     "output_type": "execute_result"
    }
   ],
   "source": [
    "from sklearn import set_config\n",
    "set_config(display='diagram')\n",
    "\n",
    "pipe.fit(x_train,y_train)"
   ]
  },
  {
   "cell_type": "code",
   "execution_count": 108,
   "id": "b66c7798",
   "metadata": {},
   "outputs": [],
   "source": [
    "prediction = pipe.predict(x_train)"
   ]
  },
  {
   "cell_type": "code",
   "execution_count": 109,
   "id": "c2f23b8f",
   "metadata": {},
   "outputs": [
    {
     "data": {
      "text/plain": [
       "1.0"
      ]
     },
     "execution_count": 109,
     "metadata": {},
     "output_type": "execute_result"
    }
   ],
   "source": [
    "accuracy_score(y_train,prediction)"
   ]
  },
  {
   "cell_type": "code",
   "execution_count": 110,
   "id": "a523771d",
   "metadata": {},
   "outputs": [],
   "source": [
    "prediction = pipe.predict(x_test)"
   ]
  },
  {
   "cell_type": "code",
   "execution_count": 111,
   "id": "6a107aff",
   "metadata": {},
   "outputs": [
    {
     "data": {
      "text/plain": [
       "0.8181818181818182"
      ]
     },
     "execution_count": 111,
     "metadata": {},
     "output_type": "execute_result"
    }
   ],
   "source": [
    "accuracy_score(y_test,prediction)"
   ]
  },
  {
   "cell_type": "code",
   "execution_count": 112,
   "id": "77e015a5",
   "metadata": {},
   "outputs": [],
   "source": [
    "import pickle"
   ]
  },
  {
   "cell_type": "code",
   "execution_count": 113,
   "id": "7607157f",
   "metadata": {},
   "outputs": [],
   "source": [
    "pickle.dump(pipe,open(\"wine_quality_detection.pkl\",'wb'))"
   ]
  },
  {
   "cell_type": "code",
   "execution_count": null,
   "id": "8e94f827",
   "metadata": {},
   "outputs": [],
   "source": []
  }
 ],
 "metadata": {
  "kernelspec": {
   "display_name": "Python 3 (ipykernel)",
   "language": "python",
   "name": "python3"
  },
  "language_info": {
   "codemirror_mode": {
    "name": "ipython",
    "version": 3
   },
   "file_extension": ".py",
   "mimetype": "text/x-python",
   "name": "python",
   "nbconvert_exporter": "python",
   "pygments_lexer": "ipython3",
   "version": "3.9.7"
  }
 },
 "nbformat": 4,
 "nbformat_minor": 5
}
